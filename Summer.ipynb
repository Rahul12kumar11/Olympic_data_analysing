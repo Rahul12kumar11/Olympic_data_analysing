{
  "nbformat": 4,
  "nbformat_minor": 0,
  "metadata": {
    "colab": {
      "name": "Summer.ipynb",
      "provenance": [],
      "collapsed_sections": [],
      "include_colab_link": true
    },
    "kernelspec": {
      "display_name": "Python 2",
      "language": "python",
      "name": "python2"
    },
    "language_info": {
      "codemirror_mode": {
        "name": "ipython",
        "version": 2
      },
      "file_extension": ".py",
      "mimetype": "text/x-python",
      "name": "python",
      "nbconvert_exporter": "python",
      "pygments_lexer": "ipython2",
      "version": "2.7.16"
    }
  },
  "cells": [
    {
      "cell_type": "markdown",
      "metadata": {
        "id": "view-in-github",
        "colab_type": "text"
      },
      "source": [
        "<a href=\"https://colab.research.google.com/github/Rahul12kumar11/Olympic_data_analysing/blob/main/Summer.ipynb\" target=\"_parent\"><img src=\"https://colab.research.google.com/assets/colab-badge.svg\" alt=\"Open In Colab\"/></a>"
      ]
    },
    {
      "cell_type": "markdown",
      "metadata": {
        "id": "x1c7d1Moc_RR"
      },
      "source": [
        "# Summer Olympics Data Analysis Assignment"
      ]
    },
    {
      "cell_type": "code",
      "metadata": {
        "id": "pj1YyxSZdBMa"
      },
      "source": [
        "import pandas as pd\n",
        "import numpy as np"
      ],
      "execution_count": null,
      "outputs": []
    },
    {
      "cell_type": "code",
      "metadata": {
        "id": "kIC39EoIdxeH"
      },
      "source": [
        "df = pd.read_csv('summer.csv')"
      ],
      "execution_count": null,
      "outputs": []
    },
    {
      "cell_type": "code",
      "metadata": {
        "colab": {
          "base_uri": "https://localhost:8080/",
          "height": 204
        },
        "id": "kF1HbuBVyRd8",
        "outputId": "968b06fa-038b-4e6c-f5a4-9645f7eaaff0"
      },
      "source": [
        "df.head()"
      ],
      "execution_count": null,
      "outputs": [
        {
          "output_type": "execute_result",
          "data": {
            "text/plain": [
              "   Year    City     Sport Discipline             Athlete Country Gender  \\\n",
              "0  1896  Athens  Aquatics   Swimming       HAJOS, Alfred     HUN    Men   \n",
              "1  1896  Athens  Aquatics   Swimming    HERSCHMANN, Otto     AUT    Men   \n",
              "2  1896  Athens  Aquatics   Swimming   DRIVAS, Dimitrios     GRE    Men   \n",
              "3  1896  Athens  Aquatics   Swimming  MALOKINIS, Ioannis     GRE    Men   \n",
              "4  1896  Athens  Aquatics   Swimming  CHASAPIS, Spiridon     GRE    Men   \n",
              "\n",
              "                        Event   Medal  \n",
              "0              100M Freestyle    Gold  \n",
              "1              100M Freestyle  Silver  \n",
              "2  100M Freestyle For Sailors  Bronze  \n",
              "3  100M Freestyle For Sailors    Gold  \n",
              "4  100M Freestyle For Sailors  Silver  "
            ],
            "text/html": [
              "<div>\n",
              "<style scoped>\n",
              "    .dataframe tbody tr th:only-of-type {\n",
              "        vertical-align: middle;\n",
              "    }\n",
              "\n",
              "    .dataframe tbody tr th {\n",
              "        vertical-align: top;\n",
              "    }\n",
              "\n",
              "    .dataframe thead th {\n",
              "        text-align: right;\n",
              "    }\n",
              "</style>\n",
              "<table border=\"1\" class=\"dataframe\">\n",
              "  <thead>\n",
              "    <tr style=\"text-align: right;\">\n",
              "      <th></th>\n",
              "      <th>Year</th>\n",
              "      <th>City</th>\n",
              "      <th>Sport</th>\n",
              "      <th>Discipline</th>\n",
              "      <th>Athlete</th>\n",
              "      <th>Country</th>\n",
              "      <th>Gender</th>\n",
              "      <th>Event</th>\n",
              "      <th>Medal</th>\n",
              "    </tr>\n",
              "  </thead>\n",
              "  <tbody>\n",
              "    <tr>\n",
              "      <th>0</th>\n",
              "      <td>1896</td>\n",
              "      <td>Athens</td>\n",
              "      <td>Aquatics</td>\n",
              "      <td>Swimming</td>\n",
              "      <td>HAJOS, Alfred</td>\n",
              "      <td>HUN</td>\n",
              "      <td>Men</td>\n",
              "      <td>100M Freestyle</td>\n",
              "      <td>Gold</td>\n",
              "    </tr>\n",
              "    <tr>\n",
              "      <th>1</th>\n",
              "      <td>1896</td>\n",
              "      <td>Athens</td>\n",
              "      <td>Aquatics</td>\n",
              "      <td>Swimming</td>\n",
              "      <td>HERSCHMANN, Otto</td>\n",
              "      <td>AUT</td>\n",
              "      <td>Men</td>\n",
              "      <td>100M Freestyle</td>\n",
              "      <td>Silver</td>\n",
              "    </tr>\n",
              "    <tr>\n",
              "      <th>2</th>\n",
              "      <td>1896</td>\n",
              "      <td>Athens</td>\n",
              "      <td>Aquatics</td>\n",
              "      <td>Swimming</td>\n",
              "      <td>DRIVAS, Dimitrios</td>\n",
              "      <td>GRE</td>\n",
              "      <td>Men</td>\n",
              "      <td>100M Freestyle For Sailors</td>\n",
              "      <td>Bronze</td>\n",
              "    </tr>\n",
              "    <tr>\n",
              "      <th>3</th>\n",
              "      <td>1896</td>\n",
              "      <td>Athens</td>\n",
              "      <td>Aquatics</td>\n",
              "      <td>Swimming</td>\n",
              "      <td>MALOKINIS, Ioannis</td>\n",
              "      <td>GRE</td>\n",
              "      <td>Men</td>\n",
              "      <td>100M Freestyle For Sailors</td>\n",
              "      <td>Gold</td>\n",
              "    </tr>\n",
              "    <tr>\n",
              "      <th>4</th>\n",
              "      <td>1896</td>\n",
              "      <td>Athens</td>\n",
              "      <td>Aquatics</td>\n",
              "      <td>Swimming</td>\n",
              "      <td>CHASAPIS, Spiridon</td>\n",
              "      <td>GRE</td>\n",
              "      <td>Men</td>\n",
              "      <td>100M Freestyle For Sailors</td>\n",
              "      <td>Silver</td>\n",
              "    </tr>\n",
              "  </tbody>\n",
              "</table>\n",
              "</div>"
            ]
          },
          "metadata": {},
          "execution_count": 17
        }
      ]
    },
    {
      "cell_type": "code",
      "metadata": {
        "id": "K3zMaDHGyRiZ"
      },
      "source": [
        ""
      ],
      "execution_count": null,
      "outputs": []
    },
    {
      "cell_type": "markdown",
      "metadata": {
        "id": "lbIbLsbfc_Ri"
      },
      "source": [
        "### 1. In how many cities Summer Olympics is held so far?"
      ]
    },
    {
      "cell_type": "code",
      "metadata": {
        "colab": {
          "base_uri": "https://localhost:8080/",
          "height": 935
        },
        "id": "NwP5lgUJc_Rl",
        "outputId": "7c12ad09-0c35-4528-8932-321a367df673"
      },
      "source": [
        "data = []\n",
        "\n",
        "for city in df['City'].unique():\n",
        "  data.append([city, len(df[df['City'] == city])/100])\n",
        " \n",
        "data1 = pd.DataFrame(data, columns= ['City', 'freq'])\n",
        "print(\"Data Representation !!!\")\n",
        "print(data1)\n",
        "print(\"Number of cities sumer olampics held \", len(data1))"
      ],
      "execution_count": null,
      "outputs": [
        {
          "output_type": "stream",
          "name": "stdout",
          "text": [
            "Data Representation !!!\n",
            "                     City  freq\n",
            "0                  Athens    21\n",
            "1                   Paris    13\n",
            "2                St Louis     4\n",
            "3                  London    35\n",
            "4               Stockholm     8\n",
            "5                 Antwerp    12\n",
            "6               Amsterdam     7\n",
            "7             Los Angeles    20\n",
            "8                  Berlin     8\n",
            "9                Helsinki     8\n",
            "10  Melbourne / Stockholm     8\n",
            "11                   Rome     8\n",
            "12                  Tokyo    10\n",
            "13                 Mexico    10\n",
            "14                 Munich    11\n",
            "15               Montreal    13\n",
            "16                 Moscow    13\n",
            "17                  Seoul    15\n",
            "18              Barcelona    17\n",
            "19                Atlanta    18\n",
            "20                 Sydney    20\n",
            "21                Beijing    20\n",
            "('Number of cities sumer olampics held ', 22)\n",
            "\n",
            "\n",
            "Bar Graph Representation !!!\n"
          ]
        },
        {
          "output_type": "execute_result",
          "data": {
            "text/plain": [
              "<matplotlib.axes._subplots.AxesSubplot at 0x7f4c5a207a10>"
            ]
          },
          "metadata": {},
          "execution_count": 22
        },
        {
          "output_type": "display_data",
          "data": {
            "image/png": "[encoded data removed]",
            "text/plain": [
              "<Figure size 1080x360 with 1 Axes>"
            ]
          },
          "metadata": {
            "needs_background": "light"
          }
        }
      ]
    },
    {
      "cell_type": "markdown",
      "metadata": {
        "id": "EwnbkRzKc_Rp"
      },
      "source": [
        "### 2. Which sport is having most number of Gold Medals so far? (Top 5)"
      ]
    },
    {
      "cell_type": "code",
      "metadata": {
        "colab": {
          "base_uri": "https://localhost:8080/",
          "height": 573
        },
        "id": "1WuG74x7c_Rr",
        "outputId": "db4adcb2-9065-4295-eaee-1af1722aa9a2"
      },
      "source": [
        "dg = df[df['Medal'] == 'Gold']\n",
        "data = []\n",
        "\n",
        "for sports in dg['Sport'].unique():\n",
        "  data.append([sports, len(dg[dg['Sport'] == sports])])\n",
        "\n",
        "Data = pd.DataFrame(data, columns= ['Sport', 'Gold_Medals']).sort_values(by = 'Gold_Medals' , ascending = False).head()\n",
        "print(\"Top 5 sport having most gold medal !!\")\n",
        "print(Data)\n",
        "print(\"\\n\")\n",
        "print(\"Bar graph representation!!!\")\n",
        "pd.DataFrame(data, columns= ['Sport', 'Gold_Medals']).sort_values(by = 'Gold_Medals' , ascending = False).head().plot(x = 'Sport', y = 'Gold_Medals', kind = 'bar', figsize = (5,5), color = 'Red')"
      ],
      "execution_count": null,
      "outputs": [
        {
          "output_type": "stream",
          "name": "stdout",
          "text": [
            "Top 5 sport having most gold medal !!\n",
            "         Sport  Gold_Medals\n",
            "0     Aquatics         1421\n",
            "1    Athletics         1215\n",
            "17      Rowing          890\n",
            "4   Gymnastics          820\n",
            "3      Fencing          552\n",
            "\n",
            "\n",
            "Bar graph representation!!!\n"
          ]
        },
        {
          "output_type": "execute_result",
          "data": {
            "text/plain": [
              "<matplotlib.axes._subplots.AxesSubplot at 0x7f4c60de88d0>"
            ]
          },
          "metadata": {},
          "execution_count": 7
        },
        {
          "output_type": "display_data",
          "data": {
            "image/png": "[encoded data removed]",
            "text/plain": [
              "<Figure size 360x360 with 1 Axes>"
            ]
          },
          "metadata": {
            "needs_background": "light"
          }
        }
      ]
    },
    {
      "cell_type": "markdown",
      "metadata": {
        "id": "Zm5DYDLcc_Rs"
      },
      "source": [
        "### 3. Which sport is having most number of medals so far? (Top 5)"
      ]
    },
    {
      "cell_type": "code",
      "metadata": {
        "colab": {
          "base_uri": "https://localhost:8080/",
          "height": 541
        },
        "id": "rCD1hZ7bc_Ru",
        "outputId": "cd030532-73a9-45be-c654-c8f673075b59"
      },
      "source": [
        "data = []\n",
        "\n",
        "for sports in df['Sport'].unique():\n",
        "  data.append([sports, len(df[df['Sport'] == sports])])\n",
        "\n",
        "Data = pd.DataFrame(data, columns= ['Sport', 'medals']).sort_values(by = 'medals' , ascending = False).head()\n",
        "print(\"Top 5 sports having most number of medals \\n\")\n",
        "print(Data)\n",
        "print(\"\\n\")\n",
        "print(\"!!!!!Line graph representation!!!!\")\n",
        "pd.DataFrame(data, columns= ['Sport', 'medals']).sort_values(by = 'medals' , ascending = False).head().plot(x = 'Sport', y = 'medals', kind = 'line', figsize = (5,5))"
      ],
      "execution_count": null,
      "outputs": [
        {
          "output_type": "stream",
          "name": "stdout",
          "text": [
            "Top 5 sports having most number of medals \n",
            "\n",
            "         Sport  medals\n",
            "0     Aquatics    4170\n",
            "1    Athletics    3638\n",
            "17      Rowing    2667\n",
            "4   Gymnastics    2307\n",
            "3      Fencing    1613\n",
            "\n",
            "\n",
            "!!!!!Line graph representation!!!!\n"
          ]
        },
        {
          "output_type": "execute_result",
          "data": {
            "text/plain": [
              "<matplotlib.axes._subplots.AxesSubplot at 0x7f4c60e85610>"
            ]
          },
          "metadata": {},
          "execution_count": 8
        },
        {
          "output_type": "display_data",
          "data": {
            "image/png": "[encoded data removed]",
            "text/plain": [
              "<Figure size 360x360 with 1 Axes>"
            ]
          },
          "metadata": {
            "needs_background": "light"
          }
        }
      ]
    },
    {
      "cell_type": "markdown",
      "metadata": {
        "id": "yfgtKkqOc_Rw"
      },
      "source": [
        "### 4. Which player has won most number of medals? (Top 5)"
      ]
    },
    {
      "cell_type": "code",
      "metadata": {
        "colab": {
          "base_uri": "https://localhost:8080/",
          "height": 632
        },
        "id": "Ys_Ik1Aic_Ry",
        "outputId": "a292a97f-4982-49e8-fee1-ec11c7521a50"
      },
      "source": [
        "data = []\n",
        " \n",
        "for player in df['Athlete'].unique():\n",
        "  data.append([player, len(df[df['Athlete'] == player])])\n",
        " \n",
        "Data = pd.DataFrame(data, columns= ['Player', 'freq']).sort_values(by = 'freq' , ascending = False).head()\n",
        "\n",
        "print(\"Player who win  most number of medals\")\n",
        "print(Data)\n",
        "print(\"\\n\")\n",
        "print(\"!!!!!!!Graph representation!!!!!!!!!\")\n",
        "pd.DataFrame(data, columns= ['Player', 'freq']).sort_values(by = 'freq' , ascending = False).head().plot(x = 'Player', y = 'freq', kind = 'bar', figsize = (5,5), color = 'Green')"
      ],
      "execution_count": null,
      "outputs": [
        {
          "output_type": "stream",
          "name": "stdout",
          "text": [
            "Player who win  most number of medals\n",
            "                     Player  freq\n",
            "18640       PHELPS, Michael    22\n",
            "7197       LATYNINA, Larisa    18\n",
            "9948     ANDRIANOV, Nikolay    15\n",
            "6591           ONO, Takashi    13\n",
            "5103   MANGIAROTTI, Edoardo    13\n",
            "\n",
            "\n",
            "!!!!!!!Graph representation!!!!!!!!!\n"
          ]
        },
        {
          "output_type": "execute_result",
          "data": {
            "text/plain": [
              "<matplotlib.axes._subplots.AxesSubplot at 0x7f4c5ecc03d0>"
            ]
          },
          "metadata": {},
          "execution_count": 9
        },
        {
          "output_type": "display_data",
          "data": {
            "image/png": "[encoded data removed]",
            "text/plain": [
              "<Figure size 360x360 with 1 Axes>"
            ]
          },
          "metadata": {
            "needs_background": "light"
          }
        }
      ]
    },
    {
      "cell_type": "markdown",
      "metadata": {
        "id": "Vdjf2HJgc_R0"
      },
      "source": [
        "### 5. Which player has won most number Gold Medals of medals? (Top 5)"
      ]
    },
    {
      "cell_type": "code",
      "metadata": {
        "id": "-CTsCxkxc_R4",
        "colab": {
          "base_uri": "https://localhost:8080/",
          "height": 600
        },
        "outputId": "54cd9581-02ce-4534-9842-d0c18a8836f3"
      },
      "source": [
        "dg = df[df['Medal'] == 'Gold']\n",
        "data = []\n",
        "\n",
        "for player in dg['Athlete'].unique():\n",
        "  data.append([player, len(dg[dg['Athlete'] == player])])\n",
        "\n",
        "Data = pd.DataFrame(data, columns= ['Player', 'freq']).sort_values(by = 'freq' , ascending = False).head()\n",
        "print(\"Top 5 Player to win most number of gold\")\n",
        "print(Data)\n",
        "print(\"\\n\")\n",
        "print(\"!!!Graph Representation!!!\")\n",
        "pd.DataFrame(data, columns= ['Player', 'freq']).sort_values(by = 'freq' , ascending = False).head().plot(x = 'Player', y = 'freq', kind = 'bar', figsize = (5,5), color = 'Green')"
      ],
      "execution_count": null,
      "outputs": [
        {
          "output_type": "stream",
          "name": "stdout",
          "text": [
            "Top 5 Player to win most number of gold\n",
            "                Player  freq\n",
            "6851   PHELPS, Michael    18\n",
            "3320       SPITZ, Mark     9\n",
            "2714  LATYNINA, Larisa     9\n",
            "4630       LEWIS, Carl     9\n",
            "907       NURMI, Paavo     9\n",
            "\n",
            "\n",
            "!!!Graph Representation!!!\n"
          ]
        },
        {
          "output_type": "execute_result",
          "data": {
            "text/plain": [
              "<matplotlib.axes._subplots.AxesSubplot at 0x7f4c5ea89790>"
            ]
          },
          "metadata": {},
          "execution_count": 10
        },
        {
          "output_type": "display_data",
          "data": {
            "image/png": "[encoded data removed]",
            "text/plain": [
              "<Figure size 360x360 with 1 Axes>"
            ]
          },
          "metadata": {
            "needs_background": "light"
          }
        }
      ]
    },
    {
      "cell_type": "markdown",
      "metadata": {
        "id": "aVaII5QSc_R6"
      },
      "source": [
        "### 6. In which year India won first Gold Medal in Summer Olympics?"
      ]
    },
    {
      "cell_type": "code",
      "metadata": {
        "id": "425DaGuYc_R8",
        "colab": {
          "base_uri": "https://localhost:8080/",
          "height": 456
        },
        "outputId": "3ddcd661-f184-44ff-8ed5-17d570cc3d8f"
      },
      "source": [
        "dg = df[df['Country'] == 'IND']\n",
        "dc = dg[dg['Medal'] == 'Gold']\n",
        "\n",
        "data = []\n",
        "\n",
        "for year in dc['Year'].unique():\n",
        "  data.append([year, len(dc[dc['Year'] == year])])\n",
        "\n",
        "Data = pd.DataFrame(data, columns= ['year', 'gold']).sort_values(by = 'year' , ascending = True).head(1)\n",
        "print(\"India first gold is in :-\",Data['year'])\n",
        "print(\"\\n\")\n",
        "print(\"Number of gold for india in each year\")\n",
        "print(\"!!!! Graph represenation!!!!\")\n",
        "pd.DataFrame(data, columns= ['year', 'gold']).sort_values(by = 'year' , ascending = True).plot(x = 'year', y = 'gold', kind = 'line', figsize = (5,5), color = 'Green')"
      ],
      "execution_count": null,
      "outputs": [
        {
          "output_type": "stream",
          "name": "stdout",
          "text": [
            "('India first gold is in :-', 0    1928\n",
            "Name: year, dtype: int64)\n",
            "\n",
            "\n",
            "Number of gold for india in each year\n",
            "!!!! Graph represenation!!!!\n"
          ]
        },
        {
          "output_type": "execute_result",
          "data": {
            "text/plain": [
              "<matplotlib.axes._subplots.AxesSubplot at 0x7f4c59eb2e10>"
            ]
          },
          "metadata": {},
          "execution_count": 28
        },
        {
          "output_type": "display_data",
          "data": {
            "image/png": "[encoded data removed]",
            "text/plain": [
              "<Figure size 360x360 with 1 Axes>"
            ]
          },
          "metadata": {
            "needs_background": "light"
          }
        }
      ]
    },
    {
      "cell_type": "markdown",
      "metadata": {
        "id": "Zu8jOxx2c_R9"
      },
      "source": [
        "### 7. Which event is most popular in terms on number of players? (Top 5)"
      ]
    },
    {
      "cell_type": "code",
      "metadata": {
        "id": "k2zOv0gjc_SA",
        "colab": {
          "base_uri": "https://localhost:8080/",
          "height": 623
        },
        "outputId": "90ff0ed0-5dca-47cb-b873-056b10e36ae9"
      },
      "source": [
        "print(\"!!!! Top 5 event having most popular in terms on number of players !!!\")\n",
        "data1 = df.groupby('Event').count()['Athlete'].sort_values(ascending = False).head()\n",
        "print(data1)\n",
        "print(\"\\n\")\n",
        "print(\"!!!Graph Represenatio of Most popular even !!!!\")\n",
        "df.groupby('Event').count()['Athlete'].sort_values(ascending = False).head().plot.bar(figsize = (5,5), color = 'Red')"
      ],
      "execution_count": null,
      "outputs": [
        {
          "output_type": "stream",
          "name": "stdout",
          "text": [
            "!!!! Top 5 event having most popular in terms on number of players !!!\n",
            "Event\n",
            "Football            1497\n",
            "Hockey              1422\n",
            "Team Competition    1147\n",
            "Basketball          1012\n",
            "Handball             973\n",
            "Name: Athlete, dtype: int64\n",
            "\n",
            "\n",
            "!!!Graph Represenatio of Most popular even !!!!\n"
          ]
        },
        {
          "output_type": "execute_result",
          "data": {
            "text/plain": [
              "<matplotlib.axes._subplots.AxesSubplot at 0x7f4c59f42a90>"
            ]
          },
          "metadata": {},
          "execution_count": 26
        },
        {
          "output_type": "display_data",
          "data": {
            "image/png": "[encoded data removed]",
            "text/plain": [
              "<Figure size 360x360 with 1 Axes>"
            ]
          },
          "metadata": {
            "needs_background": "light"
          }
        }
      ]
    },
    {
      "cell_type": "markdown",
      "metadata": {
        "id": "gcl3EwH8c_SC"
      },
      "source": [
        "### 8. Which sport is having most female Gold Medalists? (Top 5)"
      ]
    },
    {
      "cell_type": "code",
      "metadata": {
        "id": "Z2IAFAOMc_SD",
        "colab": {
          "base_uri": "https://localhost:8080/",
          "height": 524
        },
        "outputId": "be1534c2-4fe9-4e0c-848d-c941ec7515d2"
      },
      "source": [
        "dg = df[df['Gender'] == 'Women']\n",
        "dc = dg[dg['Medal'] == 'Gold']\n",
        "\n",
        "data = []\n",
        " \n",
        "for Sport in df['Sport'].unique():\n",
        "  data.append([Sport, len(dc[dc['Sport'] == Sport])])\n",
        "Data = pd.DataFrame(data, columns= ['Sport', 'Gold_Medal']).sort_values(by = 'Gold_Medal' , ascending = False).head()\n",
        "print(\"Female with having most number of golds\")\n",
        "print(Data)\n",
        "print(\"\\n\")\n",
        "print(\"!!!!!Graph represention!!!!!!!!!!\")\n",
        " \n",
        "pd.DataFrame(data, columns= ['Sport', 'Gold_Medal']).sort_values(by = 'Gold_Medal' , ascending = False).head().plot(x = 'Sport', y = 'Gold_Medal', kind = 'line', figsize = (5,5), color = 'Green')\n"
      ],
      "execution_count": null,
      "outputs": [
        {
          "output_type": "stream",
          "name": "stdout",
          "text": [
            "Female with having most number of golds\n",
            "         Sport  Gold_Medal\n",
            "0     Aquatics         589\n",
            "1    Athletics         389\n",
            "4   Gymnastics         268\n",
            "17      Rowing         217\n",
            "35  Volleyball         166\n",
            "\n",
            "\n",
            "!!!!!Graph represention!!!!!!!!!!\n"
          ]
        },
        {
          "output_type": "execute_result",
          "data": {
            "text/plain": [
              "<matplotlib.axes._subplots.AxesSubplot at 0x7f4c5ec353d0>"
            ]
          },
          "metadata": {},
          "execution_count": 13
        },
        {
          "output_type": "display_data",
          "data": {
            "image/png": "[encoded data removed]",
            "text/plain": [
              "<Figure size 360x360 with 1 Axes>"
            ]
          },
          "metadata": {
            "needs_background": "light"
          }
        }
      ]
    }
  ]
}